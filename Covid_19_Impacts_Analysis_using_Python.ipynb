{
  "nbformat": 4,
  "nbformat_minor": 0,
  "metadata": {
    "colab": {
      "provenance": []
    },
    "kernelspec": {
      "name": "python3",
      "display_name": "Python 3"
    },
    "language_info": {
      "name": "python"
    }
  },
  "cells": [
    {
      "cell_type": "markdown",
      "source": [
        "#Covid-19 Impacts Analysis using Python and Machine Learning"
      ],
      "metadata": {
        "id": "RHHULGpwkf1v"
      }
    },
    {
      "cell_type": "markdown",
      "source": [
        "First, let's create a dummy dataset of Covid-19 cases and their impacts on different countries:"
      ],
      "metadata": {
        "id": "wbEQo0PAlAv-"
      }
    },
    {
      "cell_type": "code",
      "execution_count": 7,
      "metadata": {
        "id": "mfnmQq54kWGk"
      },
      "outputs": [],
      "source": [
        "import pandas as pd\n",
        "\n",
        "# Create dummy data for Covid-19 cases and impacts\n",
        "data = {'Country': ['USA', 'India', 'Brazil', 'Russia', 'UK'],\n",
        "        'Total Cases': [300000, 200000, 150000, 120000, 100000],\n",
        "        'Total Deaths': [5000, 3000, 2000, 1500, 1000],\n",
        "        'GDP Loss': [5.5, 7.2, 8.9, 4.6, 6.5],\n",
        "        'Employment Loss': [2.1, 3.5, 4.2, 1.8, 2.8]}\n",
        "covid_data = pd.DataFrame(data)\n"
      ]
    },
    {
      "cell_type": "code",
      "source": [
        "print(covid_data)"
      ],
      "metadata": {
        "colab": {
          "base_uri": "https://localhost:8080/"
        },
        "id": "xBLE0VTJnOpH",
        "outputId": "1b7ca310-3fb1-4046-916e-a7f274f79a8f"
      },
      "execution_count": 14,
      "outputs": [
        {
          "output_type": "stream",
          "name": "stdout",
          "text": [
            "  Country  Total Cases  Total Deaths  GDP Loss  Employment Loss\n",
            "0     USA       300000          5000       5.5              2.1\n",
            "1   India       200000          3000       7.2              3.5\n",
            "2  Brazil       150000          2000       8.9              4.2\n",
            "3  Russia       120000          1500       4.6              1.8\n",
            "4      UK       100000          1000       6.5              2.8\n"
          ]
        }
      ]
    },
    {
      "cell_type": "markdown",
      "source": [
        "Next, let's visualize the total cases and total deaths using a bar chart:"
      ],
      "metadata": {
        "id": "5JfytBDNlXiq"
      }
    },
    {
      "cell_type": "code",
      "source": [
        "import matplotlib.pyplot as plt\n",
        "\n",
        "# Create a bar chart for total cases and total deaths\n",
        "plt.bar(covid_data['Country'], covid_data['Total Cases'], label='Total Cases')\n",
        "plt.bar(covid_data['Country'], covid_data['Total Deaths'], label='Total Deaths')\n",
        "plt.xlabel('Country')\n",
        "plt.ylabel('Number of Cases')\n",
        "plt.title('Covid-19 Impact Analysis')\n",
        "plt.legend()\n",
        "plt.show()\n"
      ],
      "metadata": {
        "colab": {
          "base_uri": "https://localhost:8080/",
          "height": 295
        },
        "id": "B8jkou8PlGmG",
        "outputId": "da04a536-f8b0-400f-b21f-bdbaf3e0af75"
      },
      "execution_count": 8,
      "outputs": [
        {
          "output_type": "display_data",
          "data": {
            "text/plain": [
              "<Figure size 432x288 with 1 Axes>"
            ],
            "image/png": "[encoded data removed]"
          },
          "metadata": {
            "needs_background": "light"
          }
        }
      ]
    },
    {
      "cell_type": "markdown",
      "source": [
        "We can also visualize the GDP and employment loss using a stacked bar chart:"
      ],
      "metadata": {
        "id": "aVJNFv8DleHa"
      }
    },
    {
      "cell_type": "code",
      "source": [
        "# Create a stacked bar chart for GDP and employment loss\n",
        "plt.bar(covid_data['Country'], covid_data['GDP Loss'], label='GDP Loss')\n",
        "plt.bar(covid_data['Country'], covid_data['Employment Loss'], label='Employment Loss', bottom=covid_data['GDP Loss'])\n",
        "plt.xlabel('Country')\n",
        "plt.ylabel('Loss Percentage')\n",
        "plt.title('Covid-19 Impact Analysis')\n",
        "plt.legend()\n",
        "plt.show()\n"
      ],
      "metadata": {
        "colab": {
          "base_uri": "https://localhost:8080/",
          "height": 295
        },
        "id": "l4ZazDz2ldo5",
        "outputId": "e0333ad5-a408-4d31-f434-25fffe48b60c"
      },
      "execution_count": 9,
      "outputs": [
        {
          "output_type": "display_data",
          "data": {
            "text/plain": [
              "<Figure size 432x288 with 1 Axes>"
            ],
            "image/png": "[encoded data removed]"
          },
          "metadata": {
            "needs_background": "light"
          }
        }
      ]
    },
    {
      "cell_type": "markdown",
      "source": [
        "We can also calculate the correlation between different impact factors using Pearson correlation coefficient:"
      ],
      "metadata": {
        "id": "S-VOTvXYldeT"
      }
    },
    {
      "cell_type": "code",
      "source": [
        "from scipy.stats import pearsonr\n",
        "\n",
        "# Calculate Pearson correlation coefficient for GDP and employment loss\n",
        "corr, _ = pearsonr(covid_data['GDP Loss'], covid_data['Employment Loss'])\n",
        "print('Pearson correlation coefficient:', corr)\n"
      ],
      "metadata": {
        "colab": {
          "base_uri": "https://localhost:8080/"
        },
        "id": "pKCOuS_sln5a",
        "outputId": "6ae9b00f-8274-4311-8b67-79d7a2d6edea"
      },
      "execution_count": 10,
      "outputs": [
        {
          "output_type": "stream",
          "name": "stdout",
          "text": [
            "Pearson correlation coefficient: 0.9879816683858101\n"
          ]
        }
      ]
    },
    {
      "cell_type": "markdown",
      "source": [
        "Finally, we can use machine learning algorithms such as linear regression to predict the impact of Covid-19 on a particular country:"
      ],
      "metadata": {
        "id": "ouMeN2xjlv4C"
      }
    },
    {
      "cell_type": "code",
      "source": [
        "from sklearn.linear_model import LinearRegression\n",
        "\n",
        "# Train a linear regression model to predict GDP loss based on total cases and deaths\n",
        "X = covid_data[['Total Cases', 'Total Deaths']]\n",
        "y = covid_data['GDP Loss']\n",
        "model = LinearRegression().fit(X, y)\n",
        "\n",
        "# Predict GDP loss for a new country with 250000 total cases and 4000 total deaths\n",
        "new_data = [[250000, 4000]]\n",
        "prediction = model.predict(new_data)\n",
        "print('Predicted GDP loss:', prediction[0])\n"
      ],
      "metadata": {
        "colab": {
          "base_uri": "https://localhost:8080/"
        },
        "id": "hQfrxa8ilpMR",
        "outputId": "acdadd7d-0d56-4dcc-a902-14cc912454a4"
      },
      "execution_count": 5,
      "outputs": [
        {
          "output_type": "stream",
          "name": "stdout",
          "text": [
            "Predicted GDP loss: 6.471428571428568\n"
          ]
        },
        {
          "output_type": "stream",
          "name": "stderr",
          "text": [
            "/usr/local/lib/python3.8/dist-packages/sklearn/base.py:450: UserWarning: X does not have valid feature names, but LinearRegression was fitted with feature names\n",
            "  warnings.warn(\n"
          ]
        }
      ]
    }
  ]
}